{
  "nbformat": 4,
  "nbformat_minor": 0,
  "metadata": {
    "colab": {
      "provenance": []
    },
    "kernelspec": {
      "name": "python3",
      "display_name": "Python 3"
    },
    "language_info": {
      "name": "python"
    }
  },
  "cells": [
    {
      "cell_type": "markdown",
      "source": [
        "# BINARY SEARCH"
      ],
      "metadata": {
        "id": "QFl_lWgRTc6c"
      }
    },
    {
      "cell_type": "markdown",
      "source": [],
      "metadata": {
        "id": "b0WJ5re8ToWw"
      }
    },
    {
      "cell_type": "markdown",
      "source": [
        "DATA DITEMUKAN"
      ],
      "metadata": {
        "id": "-ytDsoK3UXpP"
      }
    },
    {
      "cell_type": "code",
      "source": [
        "def bin_search(nums,x):\n",
        "  low, high = 0, len(nums) - 1 # menginisialisasikan titik low dan high\n",
        "  while low <= high:\n",
        "    mid = (low + high) // 2 # mendeklarasikan titik mid\n",
        "    if nums[mid] == x:\n",
        "      return mid\n",
        "    elif nums[mid] > x:\n",
        "      high = mid -1\n",
        "    else:\n",
        "      low = mid + 1\n",
        "\n",
        "  return -1 # apabila result tidak ditemukan\n",
        "  S = [11,17,26,28,37,45,53,59]\n",
        "x = int(input(\"Masukan nomor yang ingin dicari: \"))\n",
        "\n",
        "pos = bin_search(S,x) # fungsi untuk binary search\n",
        "print(f\"Posisi bilangan {x} didalam list S adalah posisi nomor {pos}\")\n"
      ],
      "metadata": {
        "colab": {
          "base_uri": "https://localhost:8080/"
        },
        "id": "CQaYCow2UXQT",
        "outputId": "8276d836-9293-43d6-ee45-ed735a27724d"
      },
      "execution_count": null,
      "outputs": [
        {
          "output_type": "stream",
          "name": "stdout",
          "text": [
            "Masukan nomor yang ingin dicari: 28\n",
            "Posisi bilangan 28 didalam list S adalah posisi nomor 3\n"
          ]
        }
      ]
    },
    {
      "cell_type": "markdown",
      "source": [
        "DATA TIDAK DITEMUKAN"
      ],
      "metadata": {
        "id": "YOLHq6NlUwvE"
      }
    },
    {
      "cell_type": "code",
      "source": [
        "def bin_search(nums,x):\n",
        "  low, high = 0, len(nums) - 1 # menginisialisasikan titik low dan high\n",
        "  while low <= high:\n",
        "    mid = (low + high) // 2 # mendeklarasikan titik mid\n",
        "    if nums[mid] == x:\n",
        "      return mid\n",
        "    elif nums[mid] > x:\n",
        "      high = mid -1\n",
        "    else:\n",
        "      low = mid + 1\n",
        "\n",
        "S = [11,17,26,28,37,45,53,59]\n",
        "x = int(input(\"Masukan nomor yang ingin dicari: \"))\n",
        "\n",
        "pos = bin_search(S,x) # fungsi untuk binary search\n",
        "\n",
        "\n",
        "print(f\"Posisi bilangan {x} didalam list S adalah posisi nomor {pos}\")"
      ],
      "metadata": {
        "colab": {
          "base_uri": "https://localhost:8080/"
        },
        "id": "skerpmB-U4EU",
        "outputId": "18763e27-065c-4c9d-b64b-820ad30add21"
      },
      "execution_count": null,
      "outputs": [
        {
          "output_type": "stream",
          "name": "stdout",
          "text": [
            "Masukan nomor yang ingin dicari: 77\n",
            "Posisi bilangan 77 didalam list S adalah posisi nomor None\n"
          ]
        }
      ]
    },
    {
      "cell_type": "markdown",
      "source": [
        "# SEQUENTIAL SEARCH"
      ],
      "metadata": {
        "id": "9pkBYVNPSL0b"
      }
    },
    {
      "cell_type": "markdown",
      "source": [],
      "metadata": {
        "id": "6bFnwWTPTiRM"
      }
    },
    {
      "cell_type": "markdown",
      "source": [
        "DATA DITEMUKAN"
      ],
      "metadata": {
        "id": "AQTjYk2KSWDR"
      }
    },
    {
      "cell_type": "code",
      "source": [
        "def seq_search(nums,x):\n",
        "  for i in range(len(nums)): # mencari di seluruh elemen nums\n",
        "    if x == nums[i]:\n",
        "      return i # mengembalikan index elemen yang cocok dengan x\n",
        "\n",
        "  return -1 # ketika tidak ditemukan elemen yang cocok dengan x dalam nums\n",
        "S = [11,37,45,26,59,28,17,53]\n",
        "x = 53\n",
        "pos = seq_search(S,x) # fungsi untuk sequential search\n",
        "print(f\"Posisi bilangan {x} didalam list S adalah posisi nomor {pos}\")"
      ],
      "metadata": {
        "colab": {
          "base_uri": "https://localhost:8080/"
        },
        "id": "m2qc2N-BPoOk",
        "outputId": "8274e718-e6fa-427c-a26b-ca250612c480"
      },
      "execution_count": null,
      "outputs": [
        {
          "output_type": "stream",
          "name": "stdout",
          "text": [
            "Posisi bilangan 53 didalam list S adalah posisi nomor 7\n"
          ]
        }
      ]
    },
    {
      "cell_type": "markdown",
      "source": [
        "DATA TIDAK DITEMUKAN"
      ],
      "metadata": {
        "id": "LdTp95J_Sc3x"
      }
    },
    {
      "cell_type": "code",
      "source": [
        "def seq_search(nums,x):\n",
        "  for i in range(len(nums)): # mencari di seluruh elemen nums\n",
        "    if x == nums[i]:\n",
        "      return i # mengembalikan index elemen yang cocok dengan x\n",
        "\n",
        "  return -1 # ketika tidak ditemukan elemen yang cocok dengan x dalam nums\n",
        "S = [11,37,45,26,59,28,17,53]\n",
        "x = 1\n",
        "pos = seq_search(S,x) # fungsi untuk sequential search\n",
        "print(f\"Posisi bilangan {x} didalam list S adalah posisi nomor {pos}\")"
      ],
      "metadata": {
        "colab": {
          "base_uri": "https://localhost:8080/"
        },
        "id": "gP9xf6PRQUqA",
        "outputId": "a1311d42-dac7-4843-b2a2-00e30f22ef7c"
      },
      "execution_count": null,
      "outputs": [
        {
          "output_type": "stream",
          "name": "stdout",
          "text": [
            "Posisi bilangan 1 didalam list S adalah posisi nomor -1\n"
          ]
        }
      ]
    },
    {
      "cell_type": "code",
      "source": [
        "def seq_search(nums,x):\n",
        "  for i in range(len(nums)):\n",
        "    if x == nums[i]:\n",
        "      return i\n",
        "\n",
        "  return -1"
      ],
      "metadata": {
        "id": "GeALrO6hSh62"
      },
      "execution_count": null,
      "outputs": []
    },
    {
      "cell_type": "code",
      "source": [
        "S = [10,20,30,40,50]\n",
        "x = 30\n",
        "pos = seq_search(S,x)\n",
        "print(f\"Posisi bilangan {x} didalam list S adalah posisi nomor {pos}\")"
      ],
      "metadata": {
        "colab": {
          "base_uri": "https://localhost:8080/"
        },
        "id": "lLDcmUuiSvcX",
        "outputId": "9b7953a8-343a-40d1-c023-c15e14c27c3e"
      },
      "execution_count": null,
      "outputs": [
        {
          "output_type": "stream",
          "name": "stdout",
          "text": [
            "Posisi bilangan 30 didalam list S adalah posisi nomor 2\n"
          ]
        }
      ]
    },
    {
      "cell_type": "code",
      "source": [
        "pos = seq_search(S,x)\n",
        "S = [10,20,30,40,50]\n",
        "x = 10"
      ],
      "metadata": {
        "id": "d7SesI3-Sxr8"
      },
      "execution_count": null,
      "outputs": []
    },
    {
      "cell_type": "code",
      "source": [
        "print(f\"Posisi bilangan {x} didalam list S adalah posisi nomor {pos}\")"
      ],
      "metadata": {
        "colab": {
          "base_uri": "https://localhost:8080/"
        },
        "id": "Lobu6tp0S2tr",
        "outputId": "b21bced7-13e8-4767-d74f-4721c3c3a887"
      },
      "execution_count": null,
      "outputs": [
        {
          "output_type": "stream",
          "name": "stdout",
          "text": [
            "Posisi bilangan 10 didalam list S adalah posisi nomor 0\n"
          ]
        }
      ]
    },
    {
      "cell_type": "code",
      "source": [
        "S = [10,20,30,40,50]\n",
        "pos = seq_search(S,x)\n",
        "x = 30\n",
        "print(f\"Posisi bilangan {x} didalam list S adalah posisi nomor {pos}\")"
      ],
      "metadata": {
        "colab": {
          "base_uri": "https://localhost:8080/"
        },
        "id": "M4ksRKbwTKK1",
        "outputId": "87706162-5092-4dcf-dcd1-25e3a19253b0"
      },
      "execution_count": null,
      "outputs": [
        {
          "output_type": "stream",
          "name": "stdout",
          "text": [
            "Posisi bilangan 30 didalam list S adalah posisi nomor 2\n"
          ]
        }
      ]
    },
    {
      "cell_type": "code",
      "source": [],
      "metadata": {
        "id": "ddo3msN8TPxR"
      },
      "execution_count": null,
      "outputs": []
    },
    {
      "cell_type": "markdown",
      "source": [
        "# SORTING ALGORITM"
      ],
      "metadata": {
        "id": "gj_g9rcLVsrI"
      }
    },
    {
      "cell_type": "markdown",
      "source": [
        "Melakukan pengurutan ari yang kecil ke yang besar"
      ],
      "metadata": {
        "id": "-FDCDOuFYKxq"
      }
    },
    {
      "cell_type": "markdown",
      "source": [],
      "metadata": {
        "id": "2szl8Ku8Bs2X"
      }
    },
    {
      "cell_type": "markdown",
      "source": [
        "# Bubble sort"
      ],
      "metadata": {
        "id": "tzI49nAEUobs"
      }
    },
    {
      "cell_type": "code",
      "source": [
        "def bubblesort(S):\n",
        "  n = len(S)\n",
        "  for i in range (n):\n",
        "    print(S) #untuk mengetahui proses yang terjadi\n",
        "    for j in range (n-1):\n",
        "      if S[j] > S[j + 1]:\n",
        "        S[j], S[j + 1] = S [j + 1], S[j]"
      ],
      "metadata": {
        "id": "zp1vvJiuYhE-"
      },
      "execution_count": null,
      "outputs": []
    },
    {
      "cell_type": "code",
      "source": [
        "S = [50,30,40,10,20]\n",
        "print(\"Sebelum di sortir\", S)\n",
        "bubblesort(S)\n",
        "print(\"Setelah di sortir\", S)"
      ],
      "metadata": {
        "colab": {
          "base_uri": "https://localhost:8080/"
        },
        "id": "EcCdRaXPZbtm",
        "outputId": "d531db29-9407-4327-a851-ca2c51f8e692"
      },
      "execution_count": null,
      "outputs": [
        {
          "output_type": "stream",
          "name": "stdout",
          "text": [
            "Sebelum di sortir [50, 30, 40, 10, 20]\n",
            "[50, 30, 40, 10, 20]\n",
            "[30, 40, 10, 20, 50]\n",
            "[30, 10, 20, 40, 50]\n",
            "[10, 20, 30, 40, 50]\n",
            "[10, 20, 30, 40, 50]\n",
            "Setelah di sortir [10, 20, 30, 40, 50]\n"
          ]
        }
      ]
    },
    {
      "cell_type": "markdown",
      "source": [
        "# SELECTION SORT"
      ],
      "metadata": {
        "id": "itFEf2oMaXJO"
      }
    },
    {
      "cell_type": "markdown",
      "source": [
        "Selection sort adlaah salah satu dari algortima sorting yang menemukan elemen terkecil dalam list danm menempatkanya di sisipaling kiri"
      ],
      "metadata": {
        "id": "6OY8lzZbateN"
      }
    },
    {
      "cell_type": "code",
      "source": [
        "def selectionsort(S):\n",
        "  n = len(S)\n",
        "  for i in range(n - 1):\n",
        "    print(S)\n",
        "    smallest = i\n",
        "    for j in range(i + 1,n):\n",
        "      if S[j] < S[smallest]:\n",
        "        smallest = j\n",
        "    S[i], S[smallest] = S[smallest], S[i]"
      ],
      "metadata": {
        "id": "CW7E5QzRaqqj"
      },
      "execution_count": null,
      "outputs": []
    },
    {
      "cell_type": "code",
      "source": [
        "S = [50,30,40,10,20]\n",
        "print(\"Sebelum di sortir\", S)\n",
        "selectionsort(S)\n",
        "print(\"Setelah di sortir\", S)"
      ],
      "metadata": {
        "colab": {
          "base_uri": "https://localhost:8080/"
        },
        "id": "6X93BrzNbYiO",
        "outputId": "480a3c8f-943b-4a70-b362-5d67c6f78862"
      },
      "execution_count": null,
      "outputs": [
        {
          "output_type": "stream",
          "name": "stdout",
          "text": [
            "Sebelum di sortir [50, 30, 40, 10, 20]\n",
            "[50, 30, 40, 10, 20]\n",
            "[10, 30, 40, 50, 20]\n",
            "[10, 20, 40, 50, 30]\n",
            "[10, 20, 30, 50, 40]\n",
            "Setelah di sortir [10, 20, 30, 40, 50]\n"
          ]
        }
      ]
    },
    {
      "cell_type": "code",
      "source": [],
      "metadata": {
        "id": "SqLv-58-bdQ8"
      },
      "execution_count": null,
      "outputs": []
    },
    {
      "cell_type": "markdown",
      "source": [
        "# INSERTATION SORT"
      ],
      "metadata": {
        "id": "-wCHVKk6ch9R"
      }
    },
    {
      "cell_type": "markdown",
      "source": [
        "Insertation Sort adalah salah satu algortima sorting yang menambahkan elemen dari unsorted list ke sorted list secara satu per satu."
      ],
      "metadata": {
        "id": "pdZzDiImc-0I"
      }
    },
    {
      "cell_type": "markdown",
      "source": [],
      "metadata": {
        "id": "vEZSRDbNBv1I"
      }
    },
    {
      "cell_type": "code",
      "source": [
        "def insertionsort(S):\n",
        "  n = len(S)\n",
        "  for i in range(1, n):\n",
        "    print(S)\n",
        "    x = S[i]\n",
        "    j = i - 1\n",
        "    while j >= 0 and S[j] > x:\n",
        "      S[j + 1] = S[j]\n",
        "      j -= 1\n",
        "    S[j + 1] = x"
      ],
      "metadata": {
        "id": "FvFnNsobc2r7"
      },
      "execution_count": null,
      "outputs": []
    },
    {
      "cell_type": "code",
      "source": [
        "S = [50,30,40,10,20]\n",
        "print(\"Sebelum di sortir\", S)\n",
        "insertionsort(S)\n",
        "print(\"Setelah di sortir\", S)"
      ],
      "metadata": {
        "colab": {
          "base_uri": "https://localhost:8080/"
        },
        "id": "jrOAfRPkeJ06",
        "outputId": "4d94ac7b-3063-4611-d259-5a571e4c9415"
      },
      "execution_count": null,
      "outputs": [
        {
          "output_type": "stream",
          "name": "stdout",
          "text": [
            "Sebelum di sortir [50, 30, 40, 10, 20]\n",
            "[50, 30, 40, 10, 20]\n",
            "[30, 50, 40, 10, 20]\n",
            "[30, 40, 50, 10, 20]\n",
            "[10, 30, 40, 50, 20]\n",
            "Setelah di sortir [10, 20, 30, 40, 50]\n"
          ]
        }
      ]
    },
    {
      "cell_type": "code",
      "source": [
        "## teks"
      ],
      "metadata": {
        "id": "_4PIF6CVehtW"
      },
      "execution_count": 1,
      "outputs": []
    },
    {
      "cell_type": "markdown",
      "source": [
        "## Merge Sort - Concept - 1"
      ],
      "metadata": {
        "id": "QLdpIpJtB-xw"
      }
    },
    {
      "cell_type": "markdown",
      "source": [
        "Merge sort adlaah algoritma sorting yang membagi unsorted list atau list yang belum disortir menjadi dua sublist, mengurutkannya lalu menggabungkannya dalam sorted list"
      ],
      "metadata": {
        "id": "PQuIAwS_CJsb"
      }
    },
    {
      "cell_type": "markdown",
      "source": [
        "# Merge Sort - Concept 2"
      ],
      "metadata": {
        "id": "OQkqHhgvDDQn"
      }
    },
    {
      "cell_type": "markdown",
      "source": [
        "Pada pembahasan sebelumnya kita telah mempelajari mengenai cara kerja dari merge sort, kali ini kita akan membahas bagaimana cara melakukan merging two sorted list menjadi satu yang merupakan fondasi dari konsep merge sort."
      ],
      "metadata": {
        "id": "rEjzAYg-DJaD"
      }
    },
    {
      "cell_type": "code",
      "source": [
        "def mergesort1(S):\n",
        "  n = len(S)\n",
        "  if n > 1:\n",
        "    print(S)\n",
        "    mid = n // 2\n",
        "    L, R = S[:mid], S[mid:]\n",
        "    mergesort1(L)\n",
        "    mergesort1(R)\n",
        "    mergesort1(S,L,R)"
      ],
      "metadata": {
        "id": "h2YJi7nqB817"
      },
      "execution_count": 4,
      "outputs": []
    },
    {
      "cell_type": "code",
      "source": [
        "def merge1(S,L,R):\n",
        "  k = 0\n",
        "  while len(L) > 0 and len(R) > 0:\n",
        "    if L[0] <= R[0]:\n",
        "      S[k] = L.pop(0)\n",
        "    else:\n",
        "      S[k] = R.pop(0)\n",
        "    k += 1\n",
        "\n",
        "  while len(L) != 0:\n",
        "    S[k] = L.pop(0)\n",
        "    k += 1\n",
        "  while len(R) != 0:\n",
        "    S[k] = R.pop(0)\n",
        "    k += 1"
      ],
      "metadata": {
        "id": "zWYADxMnEc1J"
      },
      "execution_count": 6,
      "outputs": []
    },
    {
      "cell_type": "markdown",
      "source": [
        "## Quick Sort - Concept 1"
      ],
      "metadata": {
        "id": "JezvJwUSFd9X"
      }
    },
    {
      "cell_type": "markdown",
      "source": [
        "Quick Sort adalah salah satu tipe dari sorting algorithm yang secara rekurseif mengurutkan unsorted list dengan membaginay menjadi dua sublist, sesuai dengan nilai pivot. Dalam algoritma quick sort, salah satu konsep penting yang perlu kita ketahui adalah bagaimana cara untuk partitioning dengan pivot atau mengetahui value yang lebih kecil atau lebih besar dari pivot."
      ],
      "metadata": {
        "id": "I3Fw3YpyFjyv"
      }
    },
    {
      "cell_type": "markdown",
      "source": [
        "Oleh karena itu digunakan balance scale. Pertama, kita tentukan bahwa pivot adalah elemen pertama dalam list dan kemudian temukan nilai yang lebih besar dari pivot dari kiri ke kanan dalam list yang tidak termasuk pivot. Karena 10 kurang dari 15, maka pencarian pindah ke elemen berikutnya."
      ],
      "metadata": {
        "id": "3vnnoSTrGqI0"
      }
    },
    {
      "cell_type": "code",
      "source": [
        "def quicksort1(S,low,high)\n",
        "if low < high:\n",
        "  print (S)\n",
        "  pivotpoint = partition 1(S, low,high)\n",
        "  quicksort1(S,low pivotpoint - 1)\n",
        "  quicksort1(S,low pivotpoint + 1, high)"
      ],
      "metadata": {
        "id": "MZ_DYGY1Ez8K"
      },
      "execution_count": null,
      "outputs": []
    },
    {
      "cell_type": "code",
      "source": [
        "def partition1(S, low, high):\n",
        "  pivot = S[low]\n",
        "  left, right = low + 1, high\n",
        "  while left < right:\n",
        "    print (S)\n",
        "    while left <= right and S[left] <= pivot :\n",
        "      left += 1\n",
        "    while left <= right and S[right] >= pivot :\n",
        "      right -= 1\n",
        "      if left < right:\n",
        "        S[low], S[pivotpoint] = S [pivotpoint], S[low]\n",
        "        return pivotpoint"
      ],
      "metadata": {
        "id": "AJJbXo_EKX00"
      },
      "execution_count": 12,
      "outputs": []
    },
    {
      "cell_type": "code",
      "source": [
        "def quicksort1(S,low,high):\n",
        "  if low < high:\n",
        "    print(S)\n",
        "    pivotpoint = partition1(S,low,high)\n",
        "    quicksort1(S,low,pivotpoint - 1)\n",
        "    quicksort1(S, pivotpoint + 1,high)"
      ],
      "metadata": {
        "id": "4nUaU-VfKtiN"
      },
      "execution_count": 13,
      "outputs": []
    },
    {
      "cell_type": "code",
      "source": [],
      "metadata": {
        "id": "-oDhVVCHMJeG"
      },
      "execution_count": 15,
      "outputs": []
    },
    {
      "cell_type": "markdown",
      "source": [
        "# STACK"
      ],
      "metadata": {
        "id": "1vkQwLuUNn_b"
      }
    },
    {
      "cell_type": "markdown",
      "source": [
        "Merupakan tipe data abstra di mana item dapat ditambahkan atau dihapus hanya di satu sisi bagian atas. Metode yang digunakan yaitu LIFO (LAST IN FIRST OUT). Dapat menghapus item terlebih dahulu yang sebelumnya dimasukkan paling terakhir.\n",
        "istilah yang digunakan dalam stack :\n",
        "push : Menambahkan item baru diatas\n",
        "pop : Menghapus item dari atas"
      ],
      "metadata": {
        "id": "zwNvw4uNN0nQ"
      }
    },
    {
      "cell_type": "code",
      "source": [],
      "metadata": {
        "id": "nuOw3TifN4fb"
      },
      "execution_count": null,
      "outputs": []
    },
    {
      "cell_type": "markdown",
      "source": [
        "Data type list"
      ],
      "metadata": {
        "id": "azEtN9MMOfKr"
      }
    },
    {
      "cell_type": "code",
      "source": [
        "stack = []\n",
        "def push(stack, item): # membuat fungsi push\n",
        "  stack.append (item)\n",
        "def pop (stack): # membuat fungsi pop\n",
        "  stack.pop()"
      ],
      "metadata": {
        "id": "_kpdBI7sOhHE"
      },
      "execution_count": 17,
      "outputs": []
    },
    {
      "cell_type": "code",
      "source": [
        "stack = []"
      ],
      "metadata": {
        "id": "Y7SKPgb9OxuA"
      },
      "execution_count": 18,
      "outputs": []
    },
    {
      "cell_type": "code",
      "source": [
        "print (stack)"
      ],
      "metadata": {
        "colab": {
          "base_uri": "https://localhost:8080/"
        },
        "id": "dor4DB8GPBu4",
        "outputId": "b5b221ab-7fc4-4936-ed7b-136d80466104"
      },
      "execution_count": 19,
      "outputs": [
        {
          "output_type": "stream",
          "name": "stdout",
          "text": [
            "[]\n"
          ]
        }
      ]
    },
    {
      "cell_type": "code",
      "source": [
        "push(stack,\"A\") #menambahkan item A\n",
        "print(stack)"
      ],
      "metadata": {
        "colab": {
          "base_uri": "https://localhost:8080/"
        },
        "id": "KRxkREc3PF8p",
        "outputId": "5175735b-7cd2-4dfc-b9e9-f9d2ae1faa7d"
      },
      "execution_count": 20,
      "outputs": [
        {
          "output_type": "stream",
          "name": "stdout",
          "text": [
            "['A']\n"
          ]
        }
      ]
    },
    {
      "cell_type": "code",
      "source": [
        "push(stack,\"B\") #menambahkan item B\n",
        "print(stack)"
      ],
      "metadata": {
        "colab": {
          "base_uri": "https://localhost:8080/"
        },
        "id": "f6xrl8xQPWKE",
        "outputId": "ab3ff00b-e381-43cd-db40-2b8653e58dec"
      },
      "execution_count": 21,
      "outputs": [
        {
          "output_type": "stream",
          "name": "stdout",
          "text": [
            "['A', 'B']\n"
          ]
        }
      ]
    },
    {
      "cell_type": "code",
      "source": [
        "pop(stack)\n",
        "print(stack)"
      ],
      "metadata": {
        "colab": {
          "base_uri": "https://localhost:8080/"
        },
        "id": "w1RKUKxvPawu",
        "outputId": "caa54885-897d-4e3a-e7b5-97a97b156c13"
      },
      "execution_count": 22,
      "outputs": [
        {
          "output_type": "stream",
          "name": "stdout",
          "text": [
            "['A']\n"
          ]
        }
      ]
    },
    {
      "cell_type": "code",
      "source": [
        "push(stack,\"C\") #menambahkan item C\n",
        "print(stack)"
      ],
      "metadata": {
        "colab": {
          "base_uri": "https://localhost:8080/"
        },
        "id": "PXTPRQihPg9S",
        "outputId": "d78dc74a-f55f-4d36-e84c-935c41072312"
      },
      "execution_count": 23,
      "outputs": [
        {
          "output_type": "stream",
          "name": "stdout",
          "text": [
            "['A', 'C']\n"
          ]
        }
      ]
    },
    {
      "cell_type": "code",
      "source": [
        "pop(stack)\n",
        "print(stack)"
      ],
      "metadata": {
        "colab": {
          "base_uri": "https://localhost:8080/"
        },
        "id": "tj7wTRNjPqjd",
        "outputId": "f1cf1aa5-638e-491e-941a-39b840dbe9e0"
      },
      "execution_count": 24,
      "outputs": [
        {
          "output_type": "stream",
          "name": "stdout",
          "text": [
            "['A']\n"
          ]
        }
      ]
    },
    {
      "cell_type": "code",
      "source": [],
      "metadata": {
        "id": "TuW7FRsUPu1k"
      },
      "execution_count": null,
      "outputs": []
    },
    {
      "cell_type": "markdown",
      "source": [
        " ## Class"
      ],
      "metadata": {
        "id": "ahXdxigYUZ8M"
      }
    },
    {
      "cell_type": "code",
      "source": [
        "class Stack:\n",
        "  def _init_ (self):\n",
        "    self.stack = []\n",
        "  def is_empty(self) : #fungsi is_empty untuk mencegah error\n",
        "    return True if len(self.stack) == 0 else False\n",
        "  def push(self,item):\n",
        "      self.stack.append(item)\n",
        "  def get_stack(self): #fungsi getter untuk mendapatkan stack\n",
        "    return self.stack\n",
        "\n",
        "  def pop (self):\n",
        "\n",
        "    \"\"\"pop function hanya berjalan apabila list tidak kosong,\n",
        "    selain itu mengembalikan None hal ini berguna untuk memastikan\n",
        "    tidak terjadi error pada kode\"\"\"\n",
        "\n",
        "    return None if self.is_empty() else self.stack.pop()"
      ],
      "metadata": {
        "id": "jN0Sr2tTUcjv"
      },
      "execution_count": 41,
      "outputs": []
    },
    {
      "cell_type": "code",
      "source": [
        "stack = Stack() # mendeklarasikan instance stack\n",
        "print(stack.get_stack())\n",
        "stack.push(\"A\")\n",
        "stack.push(\"B\")\n",
        "print(stack.get_stack())\n",
        "print(stack.pop())\n",
        "print(stack.get_stack())\n",
        "print(stack.pop())\n",
        "print(stack.get_stack())\n",
        "print(stack.pop()) # harusnya menampilkan error karena stack sudah kosong"
      ],
      "metadata": {
        "colab": {
          "base_uri": "https://localhost:8080/",
          "height": 352
        },
        "id": "z21Lie_jVmpr",
        "outputId": "d72d4bcc-72a1-4ccf-d467-d15485cee2ec"
      },
      "execution_count": 43,
      "outputs": [
        {
          "output_type": "error",
          "ename": "AttributeError",
          "evalue": "'Stack' object has no attribute 'stack'",
          "traceback": [
            "\u001b[0;31m---------------------------------------------------------------------------\u001b[0m",
            "\u001b[0;31mAttributeError\u001b[0m                            Traceback (most recent call last)",
            "\u001b[0;32m<ipython-input-43-8c00cb9e88ca>\u001b[0m in \u001b[0;36m<cell line: 2>\u001b[0;34m()\u001b[0m\n\u001b[1;32m      1\u001b[0m \u001b[0mstack\u001b[0m \u001b[0;34m=\u001b[0m \u001b[0mStack\u001b[0m\u001b[0;34m(\u001b[0m\u001b[0;34m)\u001b[0m \u001b[0;31m# mendeklarasikan instance stack\u001b[0m\u001b[0;34m\u001b[0m\u001b[0;34m\u001b[0m\u001b[0m\n\u001b[0;32m----> 2\u001b[0;31m \u001b[0mprint\u001b[0m\u001b[0;34m(\u001b[0m\u001b[0mstack\u001b[0m\u001b[0;34m.\u001b[0m\u001b[0mget_stack\u001b[0m\u001b[0;34m(\u001b[0m\u001b[0;34m)\u001b[0m\u001b[0;34m)\u001b[0m\u001b[0;34m\u001b[0m\u001b[0;34m\u001b[0m\u001b[0m\n\u001b[0m\u001b[1;32m      3\u001b[0m \u001b[0mstack\u001b[0m\u001b[0;34m.\u001b[0m\u001b[0mpush\u001b[0m\u001b[0;34m(\u001b[0m\u001b[0;34m\"A\"\u001b[0m\u001b[0;34m)\u001b[0m\u001b[0;34m\u001b[0m\u001b[0;34m\u001b[0m\u001b[0m\n\u001b[1;32m      4\u001b[0m \u001b[0mstack\u001b[0m\u001b[0;34m.\u001b[0m\u001b[0mpush\u001b[0m\u001b[0;34m(\u001b[0m\u001b[0;34m\"B\"\u001b[0m\u001b[0;34m)\u001b[0m\u001b[0;34m\u001b[0m\u001b[0;34m\u001b[0m\u001b[0m\n\u001b[1;32m      5\u001b[0m \u001b[0mprint\u001b[0m\u001b[0;34m(\u001b[0m\u001b[0mstack\u001b[0m\u001b[0;34m.\u001b[0m\u001b[0mget_stack\u001b[0m\u001b[0;34m(\u001b[0m\u001b[0;34m)\u001b[0m\u001b[0;34m)\u001b[0m\u001b[0;34m\u001b[0m\u001b[0;34m\u001b[0m\u001b[0m\n",
            "\u001b[0;32m<ipython-input-41-ed7ecace30a4>\u001b[0m in \u001b[0;36mget_stack\u001b[0;34m(self)\u001b[0m\n\u001b[1;32m      7\u001b[0m       \u001b[0mself\u001b[0m\u001b[0;34m.\u001b[0m\u001b[0mstack\u001b[0m\u001b[0;34m.\u001b[0m\u001b[0mappend\u001b[0m\u001b[0;34m(\u001b[0m\u001b[0mitem\u001b[0m\u001b[0;34m)\u001b[0m\u001b[0;34m\u001b[0m\u001b[0;34m\u001b[0m\u001b[0m\n\u001b[1;32m      8\u001b[0m   \u001b[0;32mdef\u001b[0m \u001b[0mget_stack\u001b[0m\u001b[0;34m(\u001b[0m\u001b[0mself\u001b[0m\u001b[0;34m)\u001b[0m\u001b[0;34m:\u001b[0m \u001b[0;31m#fungsi getter untuk mendapatkan stack\u001b[0m\u001b[0;34m\u001b[0m\u001b[0;34m\u001b[0m\u001b[0m\n\u001b[0;32m----> 9\u001b[0;31m     \u001b[0;32mreturn\u001b[0m \u001b[0mself\u001b[0m\u001b[0;34m.\u001b[0m\u001b[0mstack\u001b[0m\u001b[0;34m\u001b[0m\u001b[0;34m\u001b[0m\u001b[0m\n\u001b[0m\u001b[1;32m     10\u001b[0m \u001b[0;34m\u001b[0m\u001b[0m\n\u001b[1;32m     11\u001b[0m   \u001b[0;32mdef\u001b[0m \u001b[0mpop\u001b[0m \u001b[0;34m(\u001b[0m\u001b[0mself\u001b[0m\u001b[0;34m)\u001b[0m\u001b[0;34m:\u001b[0m\u001b[0;34m\u001b[0m\u001b[0;34m\u001b[0m\u001b[0m\n",
            "\u001b[0;31mAttributeError\u001b[0m: 'Stack' object has no attribute 'stack'"
          ]
        }
      ]
    },
    {
      "cell_type": "code",
      "source": [
        "class Stack:\n",
        "  def __init__(self):\n",
        "    self.stack = []\n",
        "\n",
        "  def is_empty(self): # fungsi is_empty untuk mencegah error\n",
        "    return True if len(self.stack) == 0 else False\n",
        "\n",
        "  def push(self,item):\n",
        "    self.stack.append(item)\n",
        "\n",
        "  def get_stack(self): # fungsi getter untuk mendapatkan stack\n",
        "    return self.stack\n",
        "\n",
        "  def pop(self):\n",
        "    \"\"\" pop function hanya berjalan\n",
        "    apabila list tidak kosong, selain itu mengembalikan None\n",
        "    hal ini berguna untuk memastikan tidak terjadi error pada kode \"\"\"\n",
        "    return None if self.is_empty() else self.stack.pop()\n",
        "\n",
        "stack = Stack() # mendeklarasikan instance stack\n",
        "print(stack.get_stack())\n",
        "stack.push(\"A\")\n",
        "stack.push(\"B\")\n",
        "print(stack.get_stack())\n",
        "print(stack.pop())\n",
        "print(stack.get_stack())\n",
        "print(stack.pop())\n",
        "print(stack.get_stack())\n",
        "print(stack.pop()) # harusnya menampilkan error karena stack sudah kosong"
      ],
      "metadata": {
        "colab": {
          "base_uri": "https://localhost:8080/"
        },
        "id": "f0kxbRpnXCAS",
        "outputId": "92fa2ede-e434-4ad0-8d2f-37bb84355c23"
      },
      "execution_count": 44,
      "outputs": [
        {
          "output_type": "stream",
          "name": "stdout",
          "text": [
            "[]\n",
            "['A', 'B']\n",
            "B\n",
            "['A']\n",
            "A\n",
            "[]\n",
            "None\n"
          ]
        }
      ]
    },
    {
      "cell_type": "code",
      "source": [
        "class Stack:\n",
        "  def __init__(self):\n",
        "    self.stack = []\n",
        "\n",
        "  def is_empty(self):\n",
        "    return True if len(self.stack) == 0 else False\n",
        "\n",
        "  def push(self,item):\n",
        "    self.stack.append(item)\n",
        "\n",
        "  def get_stack(self):\n",
        "    return self.stack\n",
        "\n",
        "  def pop(self):\n",
        "    return None if self.is_empty() else self.stack.pop()\n",
        "\n",
        "stack = Stack()\n",
        "stack.push(\"X\")\n",
        "stack.pop()\n",
        "stack.push(\"Y\")\n",
        "\n",
        "print(stack.get_stack())"
      ],
      "metadata": {
        "colab": {
          "base_uri": "https://localhost:8080/"
        },
        "id": "kzsUood2Xf0H",
        "outputId": "9e2758a0-8c56-45b3-8f5b-bd1da5ed7bb8"
      },
      "execution_count": 45,
      "outputs": [
        {
          "output_type": "stream",
          "name": "stdout",
          "text": [
            "['Y']\n"
          ]
        }
      ]
    },
    {
      "cell_type": "code",
      "source": [],
      "metadata": {
        "id": "VwI86mNKX8hI"
      },
      "execution_count": null,
      "outputs": []
    },
    {
      "cell_type": "code",
      "source": [],
      "metadata": {
        "id": "9q92M2tEYCAy"
      },
      "execution_count": null,
      "outputs": []
    },
    {
      "cell_type": "markdown",
      "source": [
        "# QUEUE"
      ],
      "metadata": {
        "id": "vuB2KmS8YCZx"
      }
    },
    {
      "cell_type": "markdown",
      "source": [
        "Tipe adata abstrak dimana penghapusan data hanya dimungkinkan dari urutan depan atau awal dan penambahan hanya dimungkinkan dari urutan belakang. Struktur data yangdi gunakan seperti metode FIFO (First in First out)\n",
        "\n",
        "dua istilah penting dalam queue\n",
        "Enqueue : Menambahkan item baru ke bagian belakang queue\n",
        "Dequeue : Menghapus item dari depan queue"
      ],
      "metadata": {
        "id": "La0LTPorYJGg"
      }
    },
    {
      "cell_type": "markdown",
      "source": [
        "Dalam kode Python, kita bisa menggunakan list data type untuk mendefinisikan data structure sebagai class."
      ],
      "metadata": {
        "id": "Wo9n5T_CYzKy"
      }
    },
    {
      "cell_type": "code",
      "source": [
        "class Queue:\n",
        "\n",
        "  def __init__(self):\n",
        "    self.queue = []\n",
        "\n",
        "  def is_empty(self):\n",
        "    return True if len(self.queue) == 0 else False\n",
        "\n",
        "  def enqueue(self,item):\n",
        "    self.queue.append(item)\n",
        "\n",
        "  def dequeue(self):\n",
        "    return None if self.is_empty() else self.queue.pop(0)"
      ],
      "metadata": {
        "id": "Ig0uGiEIZDhM"
      },
      "execution_count": 57,
      "outputs": []
    },
    {
      "cell_type": "code",
      "source": [
        "class Queue:\n",
        "\n",
        "  def __init__(self):\n",
        "    self.queue = []\n",
        "\n",
        "  def is_empty(self):\n",
        "    return True if len(self.queue) == 0 else False\n",
        "\n",
        "  def get_queue(self):\n",
        "    return self.queue\n",
        "\n",
        "  def enqueue(self,item):\n",
        "    self.queue.append(item)\n",
        "\n",
        "  def dequeue(self):\n",
        "    return None if self.is_empty() else self.queue.pop(0)\n",
        "\n",
        "queue = Queue() # menginisiasi instance queue\n",
        "print(queue.get_queue())\n",
        "queue.enqueue(\"A\")\n",
        "queue.enqueue(\"B\")\n",
        "print(queue.get_queue())\n",
        "print(queue.dequeue())\n",
        "print(queue.get_queue())\n",
        "print(queue.dequeue())\n",
        "print(queue.get_queue())\n",
        "print(queue.dequeue()) # harusnya menampilkan error karena queue sudah kosong"
      ],
      "metadata": {
        "colab": {
          "base_uri": "https://localhost:8080/"
        },
        "id": "YbBYn0ZfZuNc",
        "outputId": "f1b7cce4-f8e7-48d7-e79b-b986a4a94afd"
      },
      "execution_count": 59,
      "outputs": [
        {
          "output_type": "stream",
          "name": "stdout",
          "text": [
            "[]\n",
            "['A', 'B']\n",
            "A\n",
            "['B']\n",
            "B\n",
            "[]\n",
            "None\n"
          ]
        }
      ]
    },
    {
      "cell_type": "code",
      "source": [
        "\n"
      ],
      "metadata": {
        "id": "n28VIOD1aGUf"
      },
      "execution_count": null,
      "outputs": []
    },
    {
      "cell_type": "code",
      "source": [],
      "metadata": {
        "id": "foYHSzgebCln"
      },
      "execution_count": null,
      "outputs": []
    },
    {
      "cell_type": "markdown",
      "source": [
        "## HASH TABLE"
      ],
      "metadata": {
        "id": "PSjl6lcnbFme"
      }
    },
    {
      "cell_type": "code",
      "source": [],
      "metadata": {
        "id": "BcYRBDBQbJrY"
      },
      "execution_count": null,
      "outputs": []
    },
    {
      "cell_type": "markdown",
      "source": [
        "Hash Table mengacu pada tipe data abstrak yang menyimpan dan mengekstrak data dengan memetakan sebuah key terhadap sebuah value melalui hashing .\n",
        "Hashing adalah penunjukkan lokasi untuk menyimpan data atau menemukan data yang disimpan berdasarkan nilai data. Hashing adlah penunjukkan lokasi untuk menyimpan data atau menmeukan data yang disimpan berdasarkan nilai data. Hash function menentukan kunci dengan menentukan nilai data.\n",
        ""
      ],
      "metadata": {
        "id": "oT7RQuZ7bLqt"
      }
    },
    {
      "cell_type": "code",
      "source": [],
      "metadata": {
        "id": "4mISQTOGb0e2"
      },
      "execution_count": null,
      "outputs": []
    },
    {
      "cell_type": "markdown",
      "source": [
        "Terdapat tiga istilah\n",
        "1. Put (key, value) : menyimpan nilai ke bucket yang ditentukan oleh key hash value\n",
        "2. get (key) : Mengekstrak nilai yang disimpan dalam bucket yang ditentukan oleh key hash value\n",
        "3. hash (key) : Mengonversi key value data menjadi hash value dalam range tertentu."
      ],
      "metadata": {
        "id": "gf6Tp_-1b1j2"
      }
    },
    {
      "cell_type": "code",
      "source": [
        "class HashTable:\n",
        "  def _init_(self,size):\n",
        "\n",
        "    self.size = size\n",
        "    self.table = {}\n",
        "    for i in range (size):\n",
        "      self.table[i] = []\n",
        "  def hash (self,key):\n",
        "    return key % self.size\n",
        "  def get (self,key):\n",
        "    return self.table [self.hash(key)]\n",
        "  def put(self, key, value):\n",
        "      bucket = self.table[self.hash(key)]\n",
        "      if value not in bucket:\n",
        "        bucket.append(value)"
      ],
      "metadata": {
        "id": "oVYWot4gdCdl"
      },
      "execution_count": 66,
      "outputs": []
    },
    {
      "cell_type": "code",
      "source": [
        "class HashTable:\n",
        "  def __init__(self,size):\n",
        "    self.size = size\n",
        "    self.table = {}\n",
        "    for i in range(size):\n",
        "      self.table[i] = []\n",
        "\n",
        "  def hash(self,key):\n",
        "    return key % self.size\n",
        "\n",
        "  def get(self,key):\n",
        "    return self.table[self.hash(key)]\n",
        "\n",
        "  def put(self,key,value):\n",
        "    bucket = self.table[self.hash(key)]\n",
        "    if value not in bucket:\n",
        "      bucket.append(value)\n",
        "\n",
        "table = HashTable(8) # inisialisasi instance table dengan size 8\n",
        "books = [\n",
        "  \"The Little Prince\",\n",
        "  \"The Old Man and the Sea\",\n",
        "  \"The Little Mermaid\",\n",
        "  \"Beauty and the Beast\",\n",
        "  \"The Last Leaf\",\n",
        "]\n",
        "for book in books: # iterasi semua buku\n",
        "  key = sum(map(ord,book))\n",
        "  table.put(key,book)\n",
        "\n",
        "for key in table.table.keys():\n",
        "  print(key, table.table[key])\n"
      ],
      "metadata": {
        "colab": {
          "base_uri": "https://localhost:8080/"
        },
        "id": "ylDe85Tbd_Po",
        "outputId": "72b6094d-a44e-45a0-cd28-7e7f4be65682"
      },
      "execution_count": 69,
      "outputs": [
        {
          "output_type": "stream",
          "name": "stdout",
          "text": [
            "0 ['The Little Prince']\n",
            "1 ['The Old Man and the Sea']\n",
            "2 []\n",
            "3 []\n",
            "4 []\n",
            "5 ['Beauty and the Beast', 'The Last Leaf']\n",
            "6 ['The Little Mermaid']\n",
            "7 []\n"
          ]
        }
      ]
    },
    {
      "cell_type": "code",
      "source": [
        "judul = 'The Old Man and the Sea'\n",
        "key = sum(map(ord,judul))\n",
        "bucket = table.get(key)\n",
        "print(key,bucket)"
      ],
      "metadata": {
        "colab": {
          "base_uri": "https://localhost:8080/"
        },
        "id": "XSLdAmFze6oL",
        "outputId": "991e15a6-c3ab-4d42-c590-4434751e9980"
      },
      "execution_count": 70,
      "outputs": [
        {
          "output_type": "stream",
          "name": "stdout",
          "text": [
            "1929 ['The Old Man and the Sea']\n"
          ]
        }
      ]
    },
    {
      "cell_type": "code",
      "source": [],
      "metadata": {
        "id": "30tef0PvfpHp"
      },
      "execution_count": null,
      "outputs": []
    }
  ]
}